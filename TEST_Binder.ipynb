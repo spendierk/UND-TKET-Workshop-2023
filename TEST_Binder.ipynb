{
 "cells": [
  {
   "cell_type": "markdown",
   "id": "93c92641",
   "metadata": {},
   "source": [
    "There is currently an implementation of TKET available in the form of the `pytket` python package. Check that your pytket Binder version is version 1.11.1 by running:"
   ]
  },
  {
   "cell_type": "code",
   "execution_count": 3,
   "id": "787d6c64",
   "metadata": {},
   "outputs": [],
   "source": [
    "pip show pytket"
   ]
  },
  {
   "cell_type": "markdown",
   "id": "8fb153aa",
   "metadata": {},
   "source": [
    "Additional extension modules are available for interfacing pytket with several quantum software packages, including: Qiskit, Cirq, PennyLane, pyQuil, and others. For this workshop, we will use Qiskit. Check that the Qiskit version is 0.36.0:"
   ]
  },
  {
   "cell_type": "code",
   "execution_count": 4,
   "id": "ed1a295d",
   "metadata": {},
   "outputs": [],
   "source": [
    "pip show pytket-qiskit"
   ]
  },
  {
   "cell_type": "markdown",
   "id": "967d99d8",
   "metadata": {},
   "source": [
    "Great, you are ready for the TKET workshop!"
   ]
  },
  {
   "cell_type": "code",
   "execution_count": null,
   "id": "61627ef6",
   "metadata": {},
   "outputs": [],
   "source": []
  }
 ],
 "metadata": {
  "kernelspec": {
   "display_name": "Python 3 (ipykernel)",
   "language": "python",
   "name": "python3"
  },
  "language_info": {
   "codemirror_mode": {
    "name": "ipython",
    "version": 3
   },
   "file_extension": ".py",
   "mimetype": "text/x-python",
   "name": "python",
   "nbconvert_exporter": "python",
   "pygments_lexer": "ipython3",
   "version": "3.9.12"
  }
 },
 "nbformat": 4,
 "nbformat_minor": 5
}
